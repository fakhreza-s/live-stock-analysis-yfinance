{
 "cells": [
  {
   "cell_type": "code",
   "execution_count": 19,
   "id": "f3cd714c-d999-475f-bcd7-7b11cbb3c91e",
   "metadata": {},
   "outputs": [],
   "source": [
    "import pandas as pd"
   ]
  },
  {
   "cell_type": "code",
   "execution_count": 20,
   "id": "4fe4cf60-3a0b-4a5b-8b3e-bb4aa5f46e67",
   "metadata": {},
   "outputs": [],
   "source": [
    "import requests\n",
    "def get_stock_all():\n",
    "    \"\"\"\n",
    "    Returns all stock info from IDX.\n",
    "    \"\"\"\n",
    "    # Construct the API URL with the symbol and date range parameters\n",
    "    url = f\"https://api.goapi.id/v1/stock/idx/companies\"\n",
    "    headers = {\"x-api-key\": api_key}\n",
    "    response = requests.get(url, headers=headers)\n",
    "    print(response)\n",
    "    #\n",
    "    data = response.json()\n",
    "    df = pd.DataFrame(data['data']['results'])\n",
    "    df.to_csv('stock_all.csv')\n",
    "    print('Printed to stock_all.csv', '\\n')"
   ]
  },
  {
   "cell_type": "code",
   "execution_count": 21,
   "id": "45c36f2d-e165-420f-9993-a2de11e7df33",
   "metadata": {},
   "outputs": [],
   "source": [
    "import requests\n",
    "def get_indices():\n",
    "    \"\"\"\n",
    "    Returns indices from IDX.\n",
    "    \"\"\"\n",
    "    # Construct the API URL with the symbol and date range parameters\n",
    "    url = f\"https://api.goapi.id/v1/stock/idx/indices\"\n",
    "    headers = {\"x-api-key\": api_key}\n",
    "    response = requests.get(url, headers=headers)\n",
    "    print(response)\n",
    "    #\n",
    "    data = response.json()\n",
    "    df = pd.DataFrame(data['data']['results'])\n",
    "    df.to_csv('idx_indices.csv')\n",
    "    print('Printed to idx_indices.csv', '\\n')"
   ]
  },
  {
   "cell_type": "code",
   "execution_count": 25,
   "id": "e7fd7403-f4cf-4698-82fa-7a7d0aaa1809",
   "metadata": {},
   "outputs": [],
   "source": [
    "def get_stock_list(index):\n",
    "    \"\"\"\n",
    "    Returns stock codes from an index.\n",
    "    \"\"\"\n",
    "    # Construct the API URL with the symbol and date range parameters\n",
    "    url = f\"https://api.goapi.id/v1/stock/idx/index/{index}/items\"\n",
    "    headers = {\"x-api-key\": api_key}\n",
    "    response = requests.get(url, headers=headers)\n",
    "    print(response)\n",
    "    #\n",
    "    data = response.json()\n",
    "    stock_list = data['data']['results']\n",
    "    return stock_list"
   ]
  },
  {
   "cell_type": "code",
   "execution_count": 22,
   "id": "29af853d-eb27-401f-bff9-b2f750a7d36c",
   "metadata": {},
   "outputs": [
    {
     "name": "stdout",
     "output_type": "stream",
     "text": [
      "<Response [200]>\n",
      "Printed to stock_all.csv \n",
      "\n",
      "<Response [200]>\n",
      "Printed to idx_indices.csv \n",
      "\n"
     ]
    }
   ],
   "source": [
    "api_key = 'lzy284jxT39axQdBW16hpvpcWnl6Na' # see app.goapi.id\n",
    "get_stock_all()\n",
    "get_indices()"
   ]
  }
 ],
 "metadata": {
  "kernelspec": {
   "display_name": "Python 3 (ipykernel)",
   "language": "python",
   "name": "python3"
  },
  "language_info": {
   "codemirror_mode": {
    "name": "ipython",
    "version": 3
   },
   "file_extension": ".py",
   "mimetype": "text/x-python",
   "name": "python",
   "nbconvert_exporter": "python",
   "pygments_lexer": "ipython3",
   "version": "3.10.6"
  }
 },
 "nbformat": 4,
 "nbformat_minor": 5
}
